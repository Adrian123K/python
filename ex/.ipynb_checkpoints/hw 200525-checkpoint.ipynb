{
 "cells": [
  {
   "cell_type": "code",
   "execution_count": 32,
   "metadata": {},
   "outputs": [
    {
     "data": {
      "text/plain": [
       "['DNA',\n",
       " '다시 만난 세계',\n",
       " 'Fire',\n",
       " 'Take the time',\n",
       " 'PIB',\n",
       " 'Gee',\n",
       " 'Panic Room',\n",
       " 'Pull me under']"
      ]
     },
     "execution_count": 32,
     "metadata": {},
     "output_type": "execute_result"
    }
   ],
   "source": [
    "from collections import defaultdict\n",
    "from random import shuffle\n",
    "\n",
    "artist=['소녀시대','소녀시대','BTS','BTS','Muse','Muse','Dream','Dream']\n",
    "music=['다시 만난 세계','Gee','DNA','Fire','PIB','Panic Room','Take the time','Pull me under']\n",
    "box=defaultdict(list)\n",
    "for i, arti in enumerate(artist):\n",
    "    box[arti].append(music[i])\n",
    "\n",
    "pair=[]\n",
    "for i,j in box.items():\n",
    "    for k in j:\n",
    "        pair.append([i, k])\n",
    "\n",
    "pair=[]\n",
    "for i,j in box.items():\n",
    "    for k in j:\n",
    "        pair.append([i, k])\n",
    "\n",
    "while 1:\n",
    "    shuffle(pair)\n",
    "    playlist=[]\n",
    "    for i in range(len(pair)-1):\n",
    "        if pair[i][0]==pair[i+1][0]:\n",
    "            break\n",
    "    else: break\n",
    "[i[1] for i in pair]\n",
    "            "
   ]
  },
  {
   "cell_type": "code",
   "execution_count": 66,
   "metadata": {},
   "outputs": [
    {
     "ename": "TypeError",
     "evalue": "sample() missing 1 required positional argument: 'k'",
     "output_type": "error",
     "traceback": [
      "\u001b[1;31m---------------------------------------------------------------------------\u001b[0m",
      "\u001b[1;31mTypeError\u001b[0m                                 Traceback (most recent call last)",
      "\u001b[1;32m<ipython-input-66-4d2d640448e2>\u001b[0m in \u001b[0;36m<module>\u001b[1;34m\u001b[0m\n\u001b[0;32m     18\u001b[0m \u001b[0mplaylist\u001b[0m\u001b[1;33m=\u001b[0m\u001b[1;33m[\u001b[0m\u001b[1;33m]\u001b[0m\u001b[1;33m\u001b[0m\u001b[1;33m\u001b[0m\u001b[0m\n\u001b[0;32m     19\u001b[0m \u001b[1;32mfor\u001b[0m \u001b[0mi\u001b[0m \u001b[1;32min\u001b[0m \u001b[0mbox\u001b[0m\u001b[1;33m.\u001b[0m\u001b[0mkeys\u001b[0m\u001b[1;33m(\u001b[0m\u001b[1;33m)\u001b[0m\u001b[1;33m:\u001b[0m\u001b[1;33m\u001b[0m\u001b[1;33m\u001b[0m\u001b[0m\n\u001b[1;32m---> 20\u001b[1;33m     \u001b[0mplaylist\u001b[0m\u001b[1;33m.\u001b[0m\u001b[0mappend\u001b[0m\u001b[1;33m(\u001b[0m\u001b[0mrandom\u001b[0m\u001b[1;33m.\u001b[0m\u001b[0msample\u001b[0m\u001b[1;33m(\u001b[0m\u001b[0mbox\u001b[0m\u001b[1;33m[\u001b[0m\u001b[0mi\u001b[0m\u001b[1;33m]\u001b[0m\u001b[1;33m)\u001b[0m\u001b[1;33m)\u001b[0m\u001b[1;33m\u001b[0m\u001b[1;33m\u001b[0m\u001b[0m\n\u001b[0m\u001b[0;32m     21\u001b[0m \u001b[0mplaylist\u001b[0m\u001b[1;33m\u001b[0m\u001b[1;33m\u001b[0m\u001b[0m\n\u001b[0;32m     22\u001b[0m \u001b[1;33m\u001b[0m\u001b[0m\n",
      "\u001b[1;31mTypeError\u001b[0m: sample() missing 1 required positional argument: 'k'"
     ]
    }
   ],
   "source": [
    "from collections import defaultdict\n",
    "from random import shuffle\n",
    "import random\n",
    "\n",
    "artist=['소녀시대','소녀시대','BTS','BTS','Muse','Muse','Dream','Dream']\n",
    "music=['다시 만난 세계','Gee','DNA','Fire','PIB','Panic Room','Take the time','Pull me under']\n",
    "box=defaultdict(list)\n",
    "for i, arti in enumerate(artist):\n",
    "    box[arti].append(music[i])\n",
    "    \n",
    "# pair=[]\n",
    "# for i,j in box.items():\n",
    "#     for k in j:\n",
    "#         pair.append([i, k])\n",
    "\n",
    "# shuffle(pair)\n",
    "\n",
    "playlist=[]\n",
    "for i in box.keys():\n",
    "    playlist.append(random.sample(box[i]))\n",
    "playlist\n",
    "\n",
    "# for i in range(len(pair)):\n",
    "#     if pair[i-1][0] != pair[i][0] and pair[i][1] not in playlist:\n",
    "#         playlist=\n",
    "\n",
    "# playlist=[]\n",
    "# playlist.append(pair[0][1])\n",
    "# while 1:\n",
    "#     for i in range(len(pair)):\n",
    "#         if pair[i-1][0] != pair[i][0] and pair[i][1] not in playlist:\n",
    "#             playlist\n",
    "#             print(playlist)\n",
    "#             pair.pop(i)\n",
    "# playlist\n"
   ]
  },
  {
   "cell_type": "code",
   "execution_count": 69,
   "metadata": {},
   "outputs": [
    {
     "ename": "AttributeError",
     "evalue": "'list' object has no attribute 'random'",
     "output_type": "error",
     "traceback": [
      "\u001b[1;31m---------------------------------------------------------------------------\u001b[0m",
      "\u001b[1;31mAttributeError\u001b[0m                            Traceback (most recent call last)",
      "\u001b[1;32m<ipython-input-69-f5675bb5a9b8>\u001b[0m in \u001b[0;36m<module>\u001b[1;34m\u001b[0m\n\u001b[0;32m      1\u001b[0m \u001b[0mdic\u001b[0m\u001b[1;33m=\u001b[0m\u001b[1;33m{\u001b[0m\u001b[1;36m1\u001b[0m\u001b[1;33m:\u001b[0m\u001b[1;33m[\u001b[0m\u001b[1;34m'a'\u001b[0m\u001b[1;33m,\u001b[0m\u001b[1;34m'b'\u001b[0m\u001b[1;33m,\u001b[0m\u001b[1;34m'c'\u001b[0m\u001b[1;33m]\u001b[0m\u001b[1;33m}\u001b[0m\u001b[1;33m\u001b[0m\u001b[1;33m\u001b[0m\u001b[0m\n\u001b[0;32m      2\u001b[0m \u001b[0mls\u001b[0m\u001b[1;33m=\u001b[0m\u001b[1;33m[\u001b[0m\u001b[1;36m1\u001b[0m\u001b[1;33m,\u001b[0m\u001b[1;36m2\u001b[0m\u001b[1;33m,\u001b[0m\u001b[1;36m3\u001b[0m\u001b[1;33m,\u001b[0m\u001b[1;36m4\u001b[0m\u001b[1;33m]\u001b[0m\u001b[1;33m\u001b[0m\u001b[1;33m\u001b[0m\u001b[0m\n\u001b[1;32m----> 3\u001b[1;33m \u001b[0mls\u001b[0m\u001b[1;33m.\u001b[0m\u001b[0mrandom\u001b[0m\u001b[1;33m.\u001b[0m\u001b[0msample\u001b[0m\u001b[1;33m(\u001b[0m\u001b[1;33m)\u001b[0m\u001b[1;33m\u001b[0m\u001b[1;33m\u001b[0m\u001b[0m\n\u001b[0m",
      "\u001b[1;31mAttributeError\u001b[0m: 'list' object has no attribute 'random'"
     ]
    }
   ],
   "source": [
    "dic={1:['a','b','c']}\n",
    "ls=[1,2,3,4]\n",
    "ls.random.sample()"
   ]
  },
  {
   "cell_type": "code",
   "execution_count": null,
   "metadata": {},
   "outputs": [],
   "source": []
  },
  {
   "cell_type": "code",
   "execution_count": null,
   "metadata": {},
   "outputs": [],
   "source": []
  }
 ],
 "metadata": {
  "kernelspec": {
   "display_name": "Python 3",
   "language": "python",
   "name": "python3"
  },
  "language_info": {
   "codemirror_mode": {
    "name": "ipython",
    "version": 3
   },
   "file_extension": ".py",
   "mimetype": "text/x-python",
   "name": "python",
   "nbconvert_exporter": "python",
   "pygments_lexer": "ipython3",
   "version": "3.7.4"
  }
 },
 "nbformat": 4,
 "nbformat_minor": 2
}
