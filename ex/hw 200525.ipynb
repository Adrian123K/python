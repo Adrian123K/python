{
 "cells": [
  {
   "cell_type": "code",
   "execution_count": 32,
   "metadata": {},
   "outputs": [
    {
     "data": {
      "text/plain": [
       "['DNA',\n",
       " '다시 만난 세계',\n",
       " 'Fire',\n",
       " 'Take the time',\n",
       " 'PIB',\n",
       " 'Gee',\n",
       " 'Panic Room',\n",
       " 'Pull me under']"
      ]
     },
     "execution_count": 32,
     "metadata": {},
     "output_type": "execute_result"
    }
   ],
   "source": [
    "from collections import defaultdict\n",
    "from random import shuffle\n",
    "\n",
    "artist=['소녀시대','소녀시대','BTS','BTS','Muse','Muse','Dream','Dream']\n",
    "music=['다시 만난 세계','Gee','DNA','Fire','PIB','Panic Room','Take the time','Pull me under']\n",
    "box=defaultdict(list)\n",
    "for i, arti in enumerate(artist):\n",
    "    box[arti].append(music[i])\n",
    "\n",
    "pair=[]\n",
    "for i,j in box.items():\n",
    "    for k in j:\n",
    "        pair.append([i, k])\n",
    "\n",
    "pair=[]\n",
    "for i,j in box.items():\n",
    "    for k in j:\n",
    "        pair.append([i, k])\n",
    "\n",
    "while 1:\n",
    "    shuffle(pair)\n",
    "    playlist=[]\n",
    "    for i in range(len(pair)-1):\n",
    "        if pair[i][0]==pair[i+1][0]:\n",
    "            break\n",
    "    else: break\n",
    "[i[1] for i in pair]\n",
    "            "
   ]
  },
  {
   "cell_type": "code",
   "execution_count": 66,
   "metadata": {},
   "outputs": [
    {
     "ename": "TypeError",
     "evalue": "sample() missing 1 required positional argument: 'k'",
     "output_type": "error",
     "traceback": [
      "\u001b[1;31m---------------------------------------------------------------------------\u001b[0m",
      "\u001b[1;31mTypeError\u001b[0m                                 Traceback (most recent call last)",
      "\u001b[1;32m<ipython-input-66-4d2d640448e2>\u001b[0m in \u001b[0;36m<module>\u001b[1;34m\u001b[0m\n\u001b[0;32m     18\u001b[0m \u001b[0mplaylist\u001b[0m\u001b[1;33m=\u001b[0m\u001b[1;33m[\u001b[0m\u001b[1;33m]\u001b[0m\u001b[1;33m\u001b[0m\u001b[1;33m\u001b[0m\u001b[0m\n\u001b[0;32m     19\u001b[0m \u001b[1;32mfor\u001b[0m \u001b[0mi\u001b[0m \u001b[1;32min\u001b[0m \u001b[0mbox\u001b[0m\u001b[1;33m.\u001b[0m\u001b[0mkeys\u001b[0m\u001b[1;33m(\u001b[0m\u001b[1;33m)\u001b[0m\u001b[1;33m:\u001b[0m\u001b[1;33m\u001b[0m\u001b[1;33m\u001b[0m\u001b[0m\n\u001b[1;32m---> 20\u001b[1;33m     \u001b[0mplaylist\u001b[0m\u001b[1;33m.\u001b[0m\u001b[0mappend\u001b[0m\u001b[1;33m(\u001b[0m\u001b[0mrandom\u001b[0m\u001b[1;33m.\u001b[0m\u001b[0msample\u001b[0m\u001b[1;33m(\u001b[0m\u001b[0mbox\u001b[0m\u001b[1;33m[\u001b[0m\u001b[0mi\u001b[0m\u001b[1;33m]\u001b[0m\u001b[1;33m)\u001b[0m\u001b[1;33m)\u001b[0m\u001b[1;33m\u001b[0m\u001b[1;33m\u001b[0m\u001b[0m\n\u001b[0m\u001b[0;32m     21\u001b[0m \u001b[0mplaylist\u001b[0m\u001b[1;33m\u001b[0m\u001b[1;33m\u001b[0m\u001b[0m\n\u001b[0;32m     22\u001b[0m \u001b[1;33m\u001b[0m\u001b[0m\n",
      "\u001b[1;31mTypeError\u001b[0m: sample() missing 1 required positional argument: 'k'"
     ]
    }
   ],
   "source": [
    "from collections import defaultdict\n",
    "from random import shuffle\n",
    "import random\n",
    "\n",
    "artist=['소녀시대','소녀시대','BTS','BTS','Muse','Muse','Dream','Dream']\n",
    "music=['다시 만난 세계','Gee','DNA','Fire','PIB','Panic Room','Take the time','Pull me under']\n",
    "box=defaultdict(list)\n",
    "for i, arti in enumerate(artist):\n",
    "    box[arti].append(music[i])\n",
    "    \n",
    "# pair=[]\n",
    "# for i,j in box.items():\n",
    "#     for k in j:\n",
    "#         pair.append([i, k])\n",
    "\n",
    "# shuffle(pair)\n",
    "\n",
    "playlist=[]\n",
    "for i in box.keys():\n",
    "    playlist.append(random.sample(box[i]))\n",
    "playlist\n",
    "\n",
    "# for i in range(len(pair)):\n",
    "#     if pair[i-1][0] != pair[i][0] and pair[i][1] not in playlist:\n",
    "#         playlist=\n",
    "\n",
    "# playlist=[]\n",
    "# playlist.append(pair[0][1])\n",
    "# while 1:\n",
    "#     for i in range(len(pair)):\n",
    "#         if pair[i-1][0] != pair[i][0] and pair[i][1] not in playlist:\n",
    "#             playlist\n",
    "#             print(playlist)\n",
    "#             pair.pop(i)\n",
    "# playlist\n"
   ]
  },
  {
   "cell_type": "code",
   "execution_count": 69,
   "metadata": {},
   "outputs": [
    {
     "ename": "AttributeError",
     "evalue": "'list' object has no attribute 'random'",
     "output_type": "error",
     "traceback": [
      "\u001b[1;31m---------------------------------------------------------------------------\u001b[0m",
      "\u001b[1;31mAttributeError\u001b[0m                            Traceback (most recent call last)",
      "\u001b[1;32m<ipython-input-69-f5675bb5a9b8>\u001b[0m in \u001b[0;36m<module>\u001b[1;34m\u001b[0m\n\u001b[0;32m      1\u001b[0m \u001b[0mdic\u001b[0m\u001b[1;33m=\u001b[0m\u001b[1;33m{\u001b[0m\u001b[1;36m1\u001b[0m\u001b[1;33m:\u001b[0m\u001b[1;33m[\u001b[0m\u001b[1;34m'a'\u001b[0m\u001b[1;33m,\u001b[0m\u001b[1;34m'b'\u001b[0m\u001b[1;33m,\u001b[0m\u001b[1;34m'c'\u001b[0m\u001b[1;33m]\u001b[0m\u001b[1;33m}\u001b[0m\u001b[1;33m\u001b[0m\u001b[1;33m\u001b[0m\u001b[0m\n\u001b[0;32m      2\u001b[0m \u001b[0mls\u001b[0m\u001b[1;33m=\u001b[0m\u001b[1;33m[\u001b[0m\u001b[1;36m1\u001b[0m\u001b[1;33m,\u001b[0m\u001b[1;36m2\u001b[0m\u001b[1;33m,\u001b[0m\u001b[1;36m3\u001b[0m\u001b[1;33m,\u001b[0m\u001b[1;36m4\u001b[0m\u001b[1;33m]\u001b[0m\u001b[1;33m\u001b[0m\u001b[1;33m\u001b[0m\u001b[0m\n\u001b[1;32m----> 3\u001b[1;33m \u001b[0mls\u001b[0m\u001b[1;33m.\u001b[0m\u001b[0mrandom\u001b[0m\u001b[1;33m.\u001b[0m\u001b[0msample\u001b[0m\u001b[1;33m(\u001b[0m\u001b[1;33m)\u001b[0m\u001b[1;33m\u001b[0m\u001b[1;33m\u001b[0m\u001b[0m\n\u001b[0m",
      "\u001b[1;31mAttributeError\u001b[0m: 'list' object has no attribute 'random'"
     ]
    }
   ],
   "source": [
    "dic={1:['a','b','c']}\n",
    "ls=[1,2,3,4]\n",
    "ls.random.sample()"
   ]
  },
  {
   "cell_type": "code",
   "execution_count": null,
   "metadata": {},
   "outputs": [],
   "source": [
    "\n",
    "from collections import defaultdict, Counter\n",
    "import random\n",
    "\n",
    "# artist = ['소녀시대'] * 10 + ['BTS'] * 8 \\\n",
    "#        + ['아이유'] * 17 + ['볼빨간 사춘기'] * 14\n",
    "# music = [f'소녀시대{i+1}' for i in range(10)] \\\n",
    "#       + [f'BTS{i+1}' for i in range(8)] \\\n",
    "#       + [f'아이유{i+1}' for i in range(17)] \\\n",
    "#       + [f'볼빨간 사춘기{i+1}' for i in range(14)]\n",
    "\n",
    "artist = ['소녀시대'] * 2 + ['BTS'] * 2 \\\n",
    "       + ['아이유'] * 5\n",
    "music = [f'소녀시대{i+1}' for i in range(2)] \\\n",
    "      + [f'BTS{i+1}' for i in range(2)] \\\n",
    "      + [f'아이유{i+1}' for i in range(5)]\n",
    "\n",
    "box = defaultdict(list)\n",
    "for i, arti in enumerate(artist):\n",
    "    box[arti].append(music[i])\n",
    "\n",
    "# 가수들의 노래를 섞어줌\n",
    "for i in box.keys(): random.shuffle(box[i])\n",
    "# 셔플 완료된 노래를 담을 변수\n",
    "playlist = []\n",
    "# 전체 노래의 수\n",
    "all_cnt = len(eval('+'.join(f'{i}' for i in box.values())))\n",
    "# 가수들 목록\n",
    "artist_list = list(box.keys())\n",
    "# 현재 선택된 가수와 노래 리스트를 담을 변수\n",
    "select_artist = select_songs = None\n",
    "# 이전에 선택된 가수와 노래 리스트를 담을 변수\n",
    "select_artist_ = select_songs_ = None\n",
    "# 전체 노래의 수만큼 반복하며 매 반복마다 노래 하나를 선택\n",
    "try:\n",
    "    for _ in range(all_cnt):\n",
    "        # 가장 곡 수가 많은 가수가 마지막에 남는 것을 방지하기 위해\n",
    "        # 곡 수가 가장 많은 가수의 노래를 우선적으로 플레이리스트에 추가\n",
    "        song_cnt = eval('+'.join([f'{[k] * len(v)}' for k, v in box.items()]))\n",
    "        # 동일한 곡 수의 가수들 중에 랜덤 선택하기 위해 셔플\n",
    "        random.shuffle(song_cnt)\n",
    "        # 가수별 곡 수 카운팅\n",
    "        by_artist = Counter(song_cnt).most_common(len(artist_list))\n",
    "        # 만약 곡 수가 가장 많은 가수의 곡 수가\n",
    "        # 나머지 가수들 곡 수의 합보다 클 경우\n",
    "        # 그 가수의 곡을 우선적으로 선곡\n",
    "        if by_artist[0][1] > sum([by_artist[i][1] for i in range(1, len(by_artist))]):\n",
    "            select_artist = Counter(song_cnt).most_common(1)[0][0]\n",
    "        # 나머지 가수들 곡 수의 합이 클 경우\n",
    "        # 전체 곡들 중 선곡\n",
    "        else: select_artist = random.choice([i[0] for i in by_artist])\n",
    "        # 선택된 가수를 리스트에서 삭제\n",
    "        artist_list.remove(select_artist)\n",
    "        # 그 가수의 노래들을 dictionary에서 꺼냄\n",
    "        select_songs = box.pop(select_artist)\n",
    "        # 노래 목록에서 노래 하나를 선택해서 플레이리스트에 추가\n",
    "        # 이 때, 이미 처음에 노래 목록을 섞었기 때문에\n",
    "        # 랜덤하게 뽑지않고 첫 번째 노래를 선택\n",
    "        playlist.append(select_songs.pop(0))\n",
    "        # 남은 곡이 없을 경우 해당 가수는 다음에 뽑지 않아도 되므로\n",
    "        # 현재 선택된 가수와 노래 리스트 변수를 초기화해줌\n",
    "        if not select_songs: select_artist = select_songs = None\n",
    "        # 만약 이전에 선택된 가수가 있을 경우 다음 선택에는\n",
    "        # 그 가수가 선택될 수 있어야 하므로\n",
    "        # 가수 리스트와 dictionary에 추가\n",
    "        if select_artist_: \n",
    "            artist_list.append(select_artist_)\n",
    "            box[select_artist_] = select_songs_\n",
    "        # 선택된 가수의 노래 목록 리스트를 새로운 변수에 옮김\n",
    "        select_artist_, select_songs_ = select_artist, select_songs\n",
    "    print('\\n'.join(playlist))\n",
    "# 셔플이 불가능할 경우\n",
    "except: print('불가능합니다.')"
   ]
  },
  {
   "cell_type": "code",
   "execution_count": null,
   "metadata": {},
   "outputs": [],
   "source": []
  }
 ],
 "metadata": {
  "kernelspec": {
   "display_name": "Python 3",
   "language": "python",
   "name": "python3"
  },
  "language_info": {
   "codemirror_mode": {
    "name": "ipython",
    "version": 3
   },
   "file_extension": ".py",
   "mimetype": "text/x-python",
   "name": "python",
   "nbconvert_exporter": "python",
   "pygments_lexer": "ipython3",
   "version": "3.7.6"
  },
  "varInspector": {
   "cols": {
    "lenName": 16,
    "lenType": 16,
    "lenVar": 40
   },
   "kernels_config": {
    "python": {
     "delete_cmd_postfix": "",
     "delete_cmd_prefix": "del ",
     "library": "var_list.py",
     "varRefreshCmd": "print(var_dic_list())"
    },
    "r": {
     "delete_cmd_postfix": ") ",
     "delete_cmd_prefix": "rm(",
     "library": "var_list.r",
     "varRefreshCmd": "cat(var_dic_list()) "
    }
   },
   "types_to_exclude": [
    "module",
    "function",
    "builtin_function_or_method",
    "instance",
    "_Feature"
   ],
   "window_display": false
  }
 },
 "nbformat": 4,
 "nbformat_minor": 2
}
